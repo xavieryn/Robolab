{
 "cells": [
  {
   "cell_type": "code",
   "execution_count": 19,
   "metadata": {},
   "outputs": [],
   "source": [
    "from PIL import Image\n",
    "from numpy import asarray\n",
    "import cv2\n",
    "import numpy as np\n",
    "import os\n",
    "import random\n",
    "import shutil\n",
    "#image = Image.open('/home/xavier/Robolab/test_images/0B9odeEn.jpg')"
   ]
  },
  {
   "cell_type": "code",
   "execution_count": 11,
   "metadata": {},
   "outputs": [],
   "source": [
    "def load_image(image_path):\n",
    "    \"\"\"\n",
    "    Load an image from a specified path.\n",
    "    \"\"\"\n",
    "    img = cv2.imread(image_path) # OpenCV function for reading an image as a numpy array\n",
    "    if img is None: \n",
    "        print(f\"Error: Image at {image_path} not found\")\n",
    "    return img\n",
    "\n",
    "def display_image(window_name, image):\n",
    "    \"\"\"\n",
    "    Display a specified image.\n",
    "    \"\"\"\n",
    "    cv2.imshow(window_name, image) # Display image\n",
    "    cv2.waitKey(0) # Image will be displayed until the escape key is pressed\n",
    "    cv2.destroyAllWindows() # Stop displaying the image"
   ]
  },
  {
   "cell_type": "code",
   "execution_count": 12,
   "metadata": {},
   "outputs": [],
   "source": [
    "# summarize some details about the image\n",
    "# print(image.format)\n",
    "# print(image.size)\n",
    "# print(image.mode)"
   ]
  },
  {
   "cell_type": "code",
   "execution_count": 13,
   "metadata": {},
   "outputs": [],
   "source": [
    "# numpyData = asarray(image)\n",
    "# writable_data = numpyData.copy()\n",
    "\n",
    "# print(type(numpyData))\n",
    "# print(numpyData.shape)\n",
    "# #print(numpyData)"
   ]
  },
  {
   "cell_type": "code",
   "execution_count": 14,
   "metadata": {},
   "outputs": [],
   "source": [
    "def changeBrightness(arrayImage, scale:float):\n",
    "    \n",
    "    for i in range(arrayImage.shape[0]):\n",
    "        for j in range(arrayImage.shape[1]):\n",
    "            for k in range(arrayImage.shape[2]):\n",
    "                arrayImage[i,j,k] = min(255, arrayImage[i,j,k]* scale)\n",
    "    return arrayImage\n",
    "    #print(writable_data)\n",
    "\n",
    "# Might be able to matrix multiply"
   ]
  },
  {
   "cell_type": "code",
   "execution_count": 15,
   "metadata": {},
   "outputs": [],
   "source": [
    "def gaussianBlur(arrayImage):\n",
    " # classic [1 2 1\n",
    " #          2 4 2\n",
    "  #         1 2 1] shape. This puts more emphasis on the actual point itself rather than giving the same weight to everything\n",
    "    arrayImageCopy = arrayImage.copy()\n",
    "    for i in range(1, arrayImage.shape[0]- 1):\n",
    "        for j in range(1, arrayImage.shape[1]-1 ):\n",
    "            for k in range(arrayImage.shape[2]):\n",
    "                blurTopLeft = arrayImageCopy[i-1,j-1,k]\n",
    "                blurMidLeft = 2 * arrayImageCopy[i,j-1,k] \n",
    "                blurBotLeft = arrayImageCopy[i+1,j-1,k]\n",
    "                blurBotMid= 2 * arrayImageCopy[i-1,j,k] \n",
    "                blurTopMid = 2 * arrayImageCopy[i-1,j,k] \n",
    "                blurBotRight = arrayImageCopy[i+1,j+1,k] \n",
    "                blurMidRight = 2 *  arrayImageCopy[i,j+1,k]\n",
    "                blurTopRight = arrayImageCopy[i-1,j+1,k] \n",
    "                blurMid = 4 *  arrayImageCopy[i,j,k] \n",
    "                blur = blurTopLeft+blurMidLeft+blurBotLeft+blurBotMid+blurTopMid+blurBotRight+blurMidRight+blurTopRight+blurMid\n",
    "                arrayImage[i,j,k] = 1/16 * blur\n",
    "\n",
    "    return arrayImage\n",
    "\n",
    "\n"
   ]
  },
  {
   "cell_type": "code",
   "execution_count": 16,
   "metadata": {},
   "outputs": [
    {
     "name": "stdout",
     "output_type": "stream",
     "text": [
      "Error: Image at /home/xavier/Robolab/test_images/0B9odeEn.jpg not found\n"
     ]
    },
    {
     "name": "stderr",
     "output_type": "stream",
     "text": [
      "[ WARN:0@444.286] global loadsave.cpp:241 findDecoder imread_('/home/xavier/Robolab/test_images/0B9odeEn.jpg'): can't open/read file: check file path/integrity\n"
     ]
    }
   ],
   "source": [
    "img = load_image(\"/home/xavier/Robolab/test_images/0B9odeEn.jpg\")\n",
    "#display_image(\"field\", img)\n"
   ]
  },
  {
   "cell_type": "code",
   "execution_count": 22,
   "metadata": {},
   "outputs": [],
   "source": [
    "def get_random_files(directory, num_files=1):\n",
    "    \"\"\"Gets a specified number of random files from a directory.\"\"\"\n",
    "\n",
    "    files = [f for f in os.listdir(directory) if os.path.isfile(os.path.join(directory, f))]\n",
    "    if not files:\n",
    "        return []  # Return an empty list if no files are found\n",
    "\n",
    "    return random.sample(files, min(num_files, len(files)))\n",
    "\n",
    "directory_path = \"/home/xavier/Robolab/data/images/train\"\n",
    "random_files = get_random_files(directory_path, 30) # Grab a random 30 images for data augmentation (brightness)\n",
    "\n",
    "for file in random_files:\n",
    "    image = Image.open( \"/home/xavier/Robolab/data/images/train/\"+ file) \n",
    "    numpyData = asarray(image)\n",
    "    writable_data = numpyData.copy()\n",
    "    # cv2.imwrite('/home/xavier/Robolab/test_blur_images/darkened'+ file , gaussianBlur(writable_data))\n",
    "    cv2.imwrite('/home/xavier/Robolab/brightness_aug_data/images/darkened'+ file , changeBrightness(writable_data,.5))\n",
    "\n",
    "\n"
   ]
  },
  {
   "cell_type": "code",
   "execution_count": 23,
   "metadata": {},
   "outputs": [],
   "source": [
    "directory = '/home/xavier/Robolab/test_images'\n",
    "txtDirectory = '/home/xavier/Robolab/data/labels/train'\n",
    "for filename  in os.listdir(directory):\n",
    "    filename = filename.replace('.jpg', '')\n",
    "    filename = filename.replace('darkened', '')\n",
    "    shutil.copy('/home/xavier/Robolab/data/labels/train'+ '/' + filename + '.txt', '/home/xavier/Robolab/brightness_aug_data/val' + '/darkened' + filename + '.txt')\n",
    "    "
   ]
  }
 ],
 "metadata": {
  "kernelspec": {
   "display_name": "HAIRLab",
   "language": "python",
   "name": "python3"
  },
  "language_info": {
   "codemirror_mode": {
    "name": "ipython",
    "version": 3
   },
   "file_extension": ".py",
   "mimetype": "text/x-python",
   "name": "python",
   "nbconvert_exporter": "python",
   "pygments_lexer": "ipython3",
   "version": "3.12.2"
  }
 },
 "nbformat": 4,
 "nbformat_minor": 2
}
